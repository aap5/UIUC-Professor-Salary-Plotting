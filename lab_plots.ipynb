{
 "cells": [
  {
   "cell_type": "markdown",
   "metadata": {},
   "source": [
    "# Lab: Plots\n",
    "\n",
    "You may not know this, but the salaries of the employees at the University of Illinois are publicly available! We have curated this data in a nice, structured dataset called `graybook.csv` for you to explore.  The goal of this lab is to work with real UIUC salary data to explore its properties, answer important questions, and to think about the implications of collecting and analyzing this data.  Throughout the lab, it is important to think about being a critical consumer of data who can not only use statistics and programming to analyze data but can also think about the \"why\" part of data science both in the classroom and in the world, as well how you can use what you learn in class to answer real questions that you have. Let’s get started!\n",
    "\n",
    "In this lab, you will:\n",
    "\n",
    "- Work with real UIUC salary data to explore some of the statistics that we talked about in class: mean, median, standard deviation, etc.\n",
    "- Practice creating plots to visualize quantitative data: boxplots and histograms.\n",
    "- See how data science can be used in the real world to think about important social justice issues through individual reflection and discussions with your group.\n",
    "\n",
    "## PRE-LAB SURVEY\n",
    "\n",
    "We are doing a pre and post lab survey this week! Please complete this survey BEFORE you start the lab to get +2 extra credit points! Who doesn't want extra credit?!  This will help us make the labs better and should take about 5 minutes :) Click the link below to access the survey.\n",
    "\n",
    "[Click Here for the Pre-Lab Survey](https://docs.google.com/forms/d/e/1FAIpQLSck64etK3BifqID33YNDyv0qRE_gXA8xd56tNSYzVDng9i53Q/viewform?usp=sf_link)\n",
    "\n",
    "## Group\n",
    "\n",
    "Edit the next Python cell to add information about who you're working within your lab section:"
   ]
  },
  {
   "cell_type": "code",
   "execution_count": 2,
   "metadata": {},
   "outputs": [],
   "source": [
    "# First, meet your CAs and TA if you haven't already!\n",
    "# ...first name is enough, we'll know who they are! :)\n",
    "ta_name = \"\"\n",
    "ca1_name = \"\"\n",
    "ca2_name = \"\"\n",
    "ca3_name = \"\"\n",
    "\n",
    "# Also, make sure to meet your team for this Lab! Find out their name, what major they're in,\n",
    "# and learn something new about them that you never knew before!\n",
    "partner1_name = \"\"\n",
    "partner1_netid = \"\"\n",
    "partner1_major = \"\"\n",
    "\n",
    "partner2_name = \"\"\n",
    "partner2_netid = \"\"\n",
    "partner2_major = \"\"\n",
    "\n",
    "partner3_name = \"\"\n",
    "partner3_netid = \"\"\n",
    "partner3_major = \"\""
   ]
  },
  {
   "cell_type": "markdown",
   "metadata": {},
   "source": [
    "## Table of Contents <a id='toc'></a>\n",
    "\n",
    "**Use the Outline view (View > Command Palette > Type \"outline\") for navigation.**\n",
    "\n",
    "* Puzzle 1\n",
    "    * Puzzle 1.1\n",
    "    * Puzzle 1.2\n",
    "    * Puzzle 1.3\n",
    "    * Puzzle 1.4\n",
    "    * Puzzle 1.5\n",
    "* Puzzle 2\n",
    "    * Puzzle 2.1\n",
    "    * Puzzle 2.2\n",
    "    * Puzzle 2.3 \n",
    "* Puzzle 3\n",
    "    * Puzzle 3.1\n",
    "    * Puzzle 3.2\n",
    "* Puzzle 4\n",
    "    * Puzzle 4.1\n",
    "    * Puzzle 4.2\n",
    "* Puzzle 5"
   ]
  },
  {
   "cell_type": "markdown",
   "metadata": {},
   "source": [
    "## Getting Help\n",
    "Remember, there are a lot of ways to get help if you find yourself stuck:\n",
    "\n",
    "1. In your lab section, you can ask your TA or CAs.\n",
    "2. Post your question in the course Discord.\n",
    "3. Office Hours:\n",
    "  - In-person office hours **every Monday, Wednesday, Thursday, and Friday** from 4:00 PM - 6:00 PM in Siebel Center for Design (SCD) Rm. 0060\n",
    "  - Zoom office hours **every Tuesday** from 5:00 PM - 6:30 PM (see the course website for links).\n",
    "\n",
    "## Install MatPlotLib\n",
    "\n",
    "In this lab, we will be creating two types of simple visualizations: Histograms and Box Plots.  To do this, we need to make sure `matplotlib` is installed.\n",
    "\n",
    "Pull up your terminal and run the following code:\n",
    "\n",
    "WINDOWS USERS: \n",
    "\n",
    "`py -m pip install matplotlib`\n",
    "\n",
    "MacOS USERS: \n",
    "\n",
    "`python3 -m pip install matplotlib`\n",
    "\n",
    "## Import the Data\n",
    "\n",
    "In the same directory as this notebook, find the dataset called `graybook.csv` that is provided.  We will use the other dataset later on ;) You know what to do to import the libraries and read in the data! :)\n",
    "\n",
    "Look at the variable names, how many rows and columns there, and anything else you may notice!"
   ]
  },
  {
   "cell_type": "code",
   "execution_count": 3,
   "metadata": {
    "deletable": false,
    "nbgrader": {
     "cell_type": "code",
     "checksum": "40a9b55a4721908243d995f8d7f2fbb7",
     "grade": false,
     "grade_id": "cell-27971beecac131cc",
     "locked": false,
     "schema_version": 3,
     "solution": true,
     "task": false
    }
   },
   "outputs": [],
   "source": [
    "#import the graybook.csv dataset below\n",
    "import pandas as pd\n",
    "df = pd.read_csv(\"graybook.csv\")"
   ]
  },
  {
   "cell_type": "markdown",
   "metadata": {},
   "source": [
    "## Puzzle 1: Exploratory Data Analysis (EDA)\n",
    "As we discussed in lecture, the first step of any data analysis is to get familiar with your dataset.  Think about what this data can tell you and what variables are included.  Data scientists always start with this step.\n",
    "\n",
    "\n",
    "Let’s do some overall exploratory data analysis to get some baseline data to compare to.  Before you do the calculations, guess what you think the average salary is at UIUC. Enter your answer below.\n",
    "\n",
    "### Puzzle 1.1: ❓ Individual Reflection ❓ \n",
    "\n",
    "Guess for Overall Average Salary."
   ]
  },
  {
   "cell_type": "markdown",
   "metadata": {},
   "source": [
    "***Double click this cell and type your answer here.***\n",
    "$70,000"
   ]
  },
  {
   "cell_type": "markdown",
   "metadata": {},
   "source": [
    "### Puzzle 1.2: Descriptive Statistics\n",
    "\n",
    "Next, using all of the data, find the following information:\n",
    "\n",
    "1. the number of employees at UIUC\n",
    "2. the mean salary\n",
    "3. the median salary\n",
    "4. the standard deviation"
   ]
  },
  {
   "cell_type": "code",
   "execution_count": 14,
   "metadata": {
    "deletable": false,
    "nbgrader": {
     "cell_type": "code",
     "checksum": "b1bea43f79c33b854e1f15dfe00b180b",
     "grade": false,
     "grade_id": "cell-419796a0b415e588",
     "locked": false,
     "schema_version": 3,
     "solution": true,
     "task": false
    }
   },
   "outputs": [
    {
     "data": {
      "text/plain": [
       "3555"
      ]
     },
     "execution_count": 14,
     "metadata": {},
     "output_type": "execute_result"
    }
   ],
   "source": [
    "university_num_emp = len(df)\n",
    "university_num_emp\n",
    "\n"
   ]
  },
  {
   "cell_type": "code",
   "execution_count": 15,
   "metadata": {
    "deletable": false,
    "nbgrader": {
     "cell_type": "code",
     "checksum": "f86aac497feb3ecd4289626231b44964",
     "grade": false,
     "grade_id": "cell-4dbbeef1022a20e4",
     "locked": false,
     "schema_version": 3,
     "solution": true,
     "task": false
    }
   },
   "outputs": [
    {
     "data": {
      "text/plain": [
       "101284.91668642375"
      ]
     },
     "execution_count": 15,
     "metadata": {},
     "output_type": "execute_result"
    }
   ],
   "source": [
    "university_mean_sal = df[\"Salary\"].mean()\n",
    "university_mean_sal\n",
    "\n"
   ]
  },
  {
   "cell_type": "code",
   "execution_count": 16,
   "metadata": {
    "deletable": false,
    "nbgrader": {
     "cell_type": "code",
     "checksum": "e8f355f508ffadd1f9b645c9686c73ea",
     "grade": false,
     "grade_id": "cell-727195c3fef2cf78",
     "locked": false,
     "schema_version": 3,
     "solution": true,
     "task": false
    }
   },
   "outputs": [
    {
     "data": {
      "text/plain": [
       "86995.0"
      ]
     },
     "execution_count": 16,
     "metadata": {},
     "output_type": "execute_result"
    }
   ],
   "source": [
    "university_median_sal = df[\"Salary\"].median()\n",
    "university_median_sal\n",
    "\n"
   ]
  },
  {
   "cell_type": "code",
   "execution_count": 17,
   "metadata": {
    "deletable": false,
    "nbgrader": {
     "cell_type": "code",
     "checksum": "3da9719c35e35c72a09a1068d100b0f1",
     "grade": false,
     "grade_id": "cell-35e651d14a628e50",
     "locked": false,
     "schema_version": 3,
     "solution": true,
     "task": false
    }
   },
   "outputs": [
    {
     "data": {
      "text/plain": [
       "55129.29496464768"
      ]
     },
     "execution_count": 17,
     "metadata": {},
     "output_type": "execute_result"
    }
   ],
   "source": [
    "university_std_sal = df[\"Salary\"].std()\n",
    "university_std_sal\n",
    "\n"
   ]
  },
  {
   "cell_type": "code",
   "execution_count": 18,
   "metadata": {
    "deletable": false,
    "editable": false,
    "nbgrader": {
     "cell_type": "code",
     "checksum": "56f09ea04974ac5c89f390a8825daa39",
     "grade": true,
     "grade_id": "cell-04e624817d681f8e",
     "locked": true,
     "points": 1,
     "schema_version": 3,
     "solution": false,
     "task": false
    }
   },
   "outputs": [
    {
     "name": "stdout",
     "output_type": "stream",
     "text": [
      "🎉 All tests passed! 🎉\n"
     ]
    }
   ],
   "source": [
    "## == TEST CASES for Puzzle 1.1 ==\n",
    "# - This read-only cell contains test cases for your previous cell.\n",
    "# - If this cell runs with a message (with the emoji showing), you PASSED all test cases!\n",
    "# - If this cell results in any errors, check your previous cell, make changes, and RE-RUN your code and then this cell.\n",
    "x = university_num_emp + university_mean_sal + university_median_sal + university_std_sal\n",
    "y = ((university_mean_sal - university_median_sal) * university_std_sal) / university_num_emp\n",
    "\n",
    "assert( abs(x - 246964.21165107167) < 1 ), \"It looks like your calculations are off?\"\n",
    "assert( abs(y - 221601.415478511) < 1 ), \"It looks like your calculations are off?\"\n",
    "\n",
    "## == SUCCESS MESSAGE ==\n",
    "# You will only see this message (with the emoji showing) if you passed all test cases:\n",
    "tada = \"\\N{PARTY POPPER}\"\n",
    "print(f\"{tada} All tests passed! {tada}\")"
   ]
  },
  {
   "cell_type": "markdown",
   "metadata": {},
   "source": [
    "### Visual Displays of Data -- A Key Part of EDA!\n",
    "\n",
    "Now, we are a bit more familiar with the dataset and some summary statistics. Looking at overall descriptive statistics helps us summarize all of the observations in a column, rather than having to scroll through all of the observations!  However, descriptive statistics alone often don’t tell the whole story.  \n",
    "\n",
    "In lecture, we will see Anscombe’s Quartet (a set of 4 datasets with the exact same descriptive statistics that look completely different when graphed). This shows us that visual displays of data are also a necessary and important part of exploratory data analysis. \n",
    "\n",
    "### Puzzle 1.3: Histograms\n",
    "\n",
    "Let’s start by looking at one of the most simple, yet powerful visual displays of data, a histogram.  Histograms are used to show the overall shape of the data and they allow us to see frequencies.  Create a frequency histogram of the salaries at UIUC.\n"
   ]
  },
  {
   "cell_type": "code",
   "execution_count": 21,
   "metadata": {},
   "outputs": [
    {
     "data": {
      "text/plain": [
       "<matplotlib.axes._subplots.AxesSubplot at 0x1c90d86ed00>"
      ]
     },
     "execution_count": 21,
     "metadata": {},
     "output_type": "execute_result"
    },
    {
     "data": {
      "image/png": "[encoded data removed]",
      "text/plain": [
       "<Figure size 432x288 with 1 Axes>"
      ]
     },
     "metadata": {
      "needs_background": "light"
     },
     "output_type": "display_data"
    }
   ],
   "source": [
    "# create your histogram here\n",
    "import matplotlib.pyplot as plt\n",
    "plt.show()\n",
    "df[\"Salary\"].plot.hist()"
   ]
  },
  {
   "cell_type": "markdown",
   "metadata": {},
   "source": [
    "### Puzzle 1.4: Boxplots\n",
    "\n",
    "Next, let’s look at another simple, yet power visualization: a boxplot! Create a boxplot of the overall salary data at UIUC. "
   ]
  },
  {
   "cell_type": "code",
   "execution_count": 19,
   "metadata": {},
   "outputs": [
    {
     "data": {
      "text/plain": [
       "<matplotlib.axes._subplots.AxesSubplot at 0x1c90d7796a0>"
      ]
     },
     "execution_count": 19,
     "metadata": {},
     "output_type": "execute_result"
    },
    {
     "data": {
      "image/png": "[encoded data removed]",
      "text/plain": [
       "<Figure size 432x288 with 1 Axes>"
      ]
     },
     "metadata": {
      "needs_background": "light"
     },
     "output_type": "display_data"
    }
   ],
   "source": [
    "# create your boxplot here\n",
    "df[\"Salary\"].plot.box()"
   ]
  },
  {
   "cell_type": "markdown",
   "metadata": {},
   "source": [
    "### Puzzle 1.5: ❓ Individual Reflection ❓\n",
    "\n",
    "Explain why is it valuable to look at visual displays of salary data in addition to descriptive statistics like the mean, median, and SD. Write at least 3 sentences."
   ]
  },
  {
   "cell_type": "markdown",
   "metadata": {},
   "source": [
    "***Double click this cell and type your answer here.*** Sometimes just using descriptive statistics or just visual plots doesn't tell the whole story by itself and it is valuable to combine the findings together. Data can have the same descriptive statistics but have different visuals. The visuals allows us to see the frequency of certain statistics. "
   ]
  },
  {
   "cell_type": "markdown",
   "metadata": {},
   "source": [
    "### ❓ Group Discussion ❓\n",
    "Share what you said with your group members! \n",
    "\n",
    "## Puzzle 2: Department-Level Data\n",
    "\n",
    "One of the interesting properties of the salary dataset is that you can see what department each professor is from and look at the same data at a department level.  In other words, you can calculate descriptive statistics and look at visual displays of data for each department.  Let’s explore whether or not there are salary discrepancies among a few departments.\n",
    "\n",
    "### Puzzle 2.1:\n",
    "There was a certain function you learned that will help you **group** all of the people in each department so you can find departmental aggregates.  In other words, you want to group by `'Primary Department'`.\n",
    "\n",
    "Next, instead of just grouping by a single aggregate, use **Python list syntax** to aggregate by `count`, `mean`, and `median` to find the mean and median salary, as well as the count for how many people are in each department.  \n",
    "\n",
    "*(You can view technical docs here:\n",
    "https://pandas.pydata.org/pandas-docs/stable/reference/groupby.html)*"
   ]
  },
  {
   "cell_type": "code",
   "execution_count": 26,
   "metadata": {
    "deletable": false,
    "nbgrader": {
     "cell_type": "code",
     "checksum": "912abaecdf749394d0921e160cd15746",
     "grade": false,
     "grade_id": "cell-72189b308296916b",
     "locked": false,
     "schema_version": 3,
     "solution": true,
     "task": false
    }
   },
   "outputs": [
    {
     "data": {
      "text/html": [
       "<div>\n",
       "<style scoped>\n",
       "    .dataframe tbody tr th:only-of-type {\n",
       "        vertical-align: middle;\n",
       "    }\n",
       "\n",
       "    .dataframe tbody tr th {\n",
       "        vertical-align: top;\n",
       "    }\n",
       "\n",
       "    .dataframe thead tr th {\n",
       "        text-align: left;\n",
       "    }\n",
       "</style>\n",
       "<table border=\"1\" class=\"dataframe\">\n",
       "  <thead>\n",
       "    <tr>\n",
       "      <th></th>\n",
       "      <th>Primary Department</th>\n",
       "      <th colspan=\"3\" halign=\"left\">Salary</th>\n",
       "    </tr>\n",
       "    <tr>\n",
       "      <th></th>\n",
       "      <th></th>\n",
       "      <th>count</th>\n",
       "      <th>mean</th>\n",
       "      <th>median</th>\n",
       "    </tr>\n",
       "  </thead>\n",
       "  <tbody>\n",
       "    <tr>\n",
       "      <th>10</th>\n",
       "      <td>Agricultural &amp; Biological Engr</td>\n",
       "      <td>29</td>\n",
       "      <td>95750.896207</td>\n",
       "      <td>91342.330</td>\n",
       "    </tr>\n",
       "    <tr>\n",
       "      <th>65</th>\n",
       "      <td>Engr Shared Admin Services</td>\n",
       "      <td>13</td>\n",
       "      <td>70328.164615</td>\n",
       "      <td>68500.000</td>\n",
       "    </tr>\n",
       "    <tr>\n",
       "      <th>33</th>\n",
       "      <td>Center for African Studies</td>\n",
       "      <td>2</td>\n",
       "      <td>52127.040000</td>\n",
       "      <td>52127.040</td>\n",
       "    </tr>\n",
       "    <tr>\n",
       "      <th>31</th>\n",
       "      <td>Cell &amp; Developmental Biology</td>\n",
       "      <td>16</td>\n",
       "      <td>119238.110000</td>\n",
       "      <td>101995.645</td>\n",
       "    </tr>\n",
       "    <tr>\n",
       "      <th>127</th>\n",
       "      <td>Siebel Center for Design</td>\n",
       "      <td>1</td>\n",
       "      <td>300000.000000</td>\n",
       "      <td>300000.000</td>\n",
       "    </tr>\n",
       "  </tbody>\n",
       "</table>\n",
       "</div>"
      ],
      "text/plain": [
       "                 Primary Department Salary                           \n",
       "                                     count           mean      median\n",
       "10   Agricultural & Biological Engr     29   95750.896207   91342.330\n",
       "65       Engr Shared Admin Services     13   70328.164615   68500.000\n",
       "33       Center for African Studies      2   52127.040000   52127.040\n",
       "31     Cell & Developmental Biology     16  119238.110000  101995.645\n",
       "127        Siebel Center for Design      1  300000.000000  300000.000"
      ]
     },
     "execution_count": 26,
     "metadata": {},
     "output_type": "execute_result"
    }
   ],
   "source": [
    "group = df.groupby(\"Primary Department\")\n",
    "agg_df = group.agg([\"count\",\"mean\",\"median\"]).reset_index()\n",
    "\n",
    "\n",
    "# Here, we only care about two columns so we are selecting those columns to be in our dataset\n",
    "agg_df = agg_df[[\"Primary Department\", \"Salary\"]]\n",
    "\n",
    "# Display 5 random rows to make sure it works:\n",
    "agg_df.sample(5)"
   ]
  },
  {
   "cell_type": "code",
   "execution_count": 27,
   "metadata": {
    "deletable": false,
    "editable": false,
    "nbgrader": {
     "cell_type": "code",
     "checksum": "0bbf4ebd7bc25281632fc296ffd2b063",
     "grade": true,
     "grade_id": "cell-d4a69c902629304a",
     "locked": true,
     "points": 1,
     "schema_version": 3,
     "solution": false,
     "task": false
    }
   },
   "outputs": [
    {
     "name": "stdout",
     "output_type": "stream",
     "text": [
      "🎉 All tests passed! 🎉\n"
     ]
    }
   ],
   "source": [
    "## == TEST CASES for Puzzle 2.1 ==\n",
    "# - This read-only cell contains test cases for your previous cell.\n",
    "# - If this cell runs with a message (with the emoji showing), you PASSED all test cases!\n",
    "# - If this cell results in any errors, check your previous cell, make changes, and RE-RUN your code and then this cell.\n",
    "assert( len(agg_df) == 140 ), \"You should have 140 different departments.  Check to make sure you grouped the data?\"\n",
    "assert( \"Salary\" in agg_df ), \"You must have a salary output\"\n",
    "assert( \"mean\" in agg_df[\"Salary\"] ), \"Make sure you have a mean in your salary\"\n",
    "assert( \"count\" in agg_df[\"Salary\"] ), \"Make sure you have a count in your salary\"\n",
    "assert( \"median\" in agg_df[\"Salary\"] ), \"Make sure you have a median in your salary\"\n",
    "assert( len(agg_df.columns) == 4 ), \"Make sure you have ONLY the salary data and the department\"\n",
    "\n",
    "## == SUCCESS MESSAGE ==\n",
    "# You will only see this message (with the emoji showing) if you passed all test cases:\n",
    "tada = \"\\N{PARTY POPPER}\"\n",
    "print(f\"{tada} All tests passed! {tada}\")"
   ]
  },
  {
   "cell_type": "markdown",
   "metadata": {},
   "source": [
    "### Puzzle 2.2:\n",
    "\n",
    "Create a histogram of the salaries in your home department.  In other words, if your major is Statistics, you should have a histogram of all the salaries in the Statistics Department. Also, find the maximum and minimum salary in your home department. If you're undecided, pick a department you are interested in."
   ]
  },
  {
   "cell_type": "code",
   "execution_count": 42,
   "metadata": {},
   "outputs": [
    {
     "data": {
      "text/plain": [
       "<matplotlib.axes._subplots.AxesSubplot at 0x1c90d838a60>"
      ]
     },
     "execution_count": 42,
     "metadata": {},
     "output_type": "execute_result"
    },
    {
     "data": {
      "image/png": "[encoded data removed]",
      "text/plain": [
       "<Figure size 432x288 with 1 Axes>"
      ]
     },
     "metadata": {
      "needs_background": "light"
     },
     "output_type": "display_data"
    }
   ],
   "source": [
    "# histogram of your home department\n",
    "dfmaj = df[df[\"Primary Department\"] == \"Economics\"]\n",
    "dfmaj[\"Salary\"].plot.hist()"
   ]
  },
  {
   "cell_type": "code",
   "execution_count": 43,
   "metadata": {},
   "outputs": [
    {
     "name": "stdout",
     "output_type": "stream",
     "text": [
      "270500.0\n",
      "54000.0\n"
     ]
    }
   ],
   "source": [
    "#find the max and min salary for your home deparment\n",
    "\n",
    "max_salary = dfmaj[\"Salary\"].max()\n",
    "print(max_salary)\n",
    "\n",
    "min_salary = dfmaj[\"Salary\"].min()\n",
    "print(min_salary)"
   ]
  },
  {
   "cell_type": "markdown",
   "metadata": {},
   "source": [
    "### ❓ Group Discussion ❓\n",
    "\n",
    "Share the results with the people at your table. Do you notice any similarities or differences between departments?\n",
    "\n",
    "### Puzzle 2.3: ❓ Individual Reflection ❓\n",
    "\n",
    "Write down something you learned from your group discussion! Write at least 3 sentences."
   ]
  },
  {
   "cell_type": "markdown",
   "metadata": {},
   "source": [
    "***Double click this cell and type your answer here.*** I learned that CS has a person making $9,000 which is very low. Econ has a maximum of $270,500 which is very high. Philosophy has a maximum of 125,000 which is very high for that department in my opinion. "
   ]
  },
  {
   "cell_type": "markdown",
   "metadata": {},
   "source": [
    "## Puzzle 3: Genders and Salaries\n",
    "\n",
    "Data can often reveal systemic problems or discrimination. For example, in many companies, men and women are promoted at different rates.  Let’s look at a subset of the salary dataset to investigate whether or not there is a difference in salaries between faculty who identify as men and women in two departments. We have this data for the STAT and CS departments (Karle and Wade’s home departments) and have compiled it in a dataset called `statcssalaries.csv`. This data is also located in the same directory as this lab!\n",
    "\n",
    "### Puzzle 3.1:\n",
    "\n",
    "Load the second dataset `statcssalaries.csv` and create two boxplots of the male salaries and female salaries in this dataset.  "
   ]
  },
  {
   "cell_type": "code",
   "execution_count": 60,
   "metadata": {
    "deletable": false,
    "nbgrader": {
     "cell_type": "code",
     "checksum": "fbf16695acaebfe92f608b5121644035",
     "grade": false,
     "grade_id": "cell-dca5763613817466",
     "locked": false,
     "schema_version": 3,
     "solution": true,
     "task": false
    }
   },
   "outputs": [
    {
     "data": {
      "image/png": "[encoded data removed]",
      "text/plain": [
       "<Figure size 432x288 with 1 Axes>"
      ]
     },
     "metadata": {
      "needs_background": "light"
     },
     "output_type": "display_data"
    },
    {
     "data": {
      "image/png": "[encoded data removed]",
      "text/plain": [
       "<Figure size 432x288 with 1 Axes>"
      ]
     },
     "metadata": {
      "needs_background": "light"
     },
     "output_type": "display_data"
    }
   ],
   "source": [
    "# load the dataset\n",
    "import matplotlib.pyplot as plt\n",
    "dfsal = pd.read_csv(\"statcssalaries.csv\")\n",
    "\n",
    "df_m = dfsal[dfsal[\"Gender\"] == \"M\"]\n",
    "df_f = dfsal[dfsal[\"Gender\"] == \"F\"]\n",
    "# create the two boxplots\n",
    "df_m.plot.box()\n",
    "plt.show()\n",
    "df_f.plot.box()\n",
    "plt.show()"
   ]
  },
  {
   "cell_type": "markdown",
   "metadata": {},
   "source": [
    "### Puzzle 3.2:\n",
    "\n",
    "Next, calculate the overall mean, median, and SD of the salaries for this data."
   ]
  },
  {
   "cell_type": "code",
   "execution_count": 63,
   "metadata": {
    "deletable": false,
    "nbgrader": {
     "cell_type": "code",
     "checksum": "2fdb936f99485f2c4244bfd1a6eb4b08",
     "grade": false,
     "grade_id": "cell-8d360389fd08fc8f",
     "locked": false,
     "schema_version": 3,
     "solution": true,
     "task": false
    }
   },
   "outputs": [
    {
     "name": "stdout",
     "output_type": "stream",
     "text": [
      "121030.35902255638\n",
      "110992.0\n",
      "49959.50619890204\n"
     ]
    }
   ],
   "source": [
    "overall_mean = dfsal[\"Salary\"].mean()\n",
    "print(overall_mean)\n",
    "\n",
    "overall_median = dfsal[\"Salary\"].median()\n",
    "print(overall_median)\n",
    "\n",
    "overall_SD = dfsal[\"Salary\"].std()\n",
    "print(overall_SD)"
   ]
  },
  {
   "cell_type": "code",
   "execution_count": 64,
   "metadata": {},
   "outputs": [
    {
     "name": "stdout",
     "output_type": "stream",
     "text": [
      "🎉 All tests passed! 🎉\n"
     ]
    }
   ],
   "source": [
    "## == TEST CASES for Puzzle 3.2 ==\n",
    "# - This read-only cell contains test cases for your previous cell.\n",
    "# - If this cell runs with a message (with the emoji showing), you PASSED all test cases!\n",
    "# - If this cell results in any errors, check your previous cell, make changes, and RE-RUN your code and then this cell.\n",
    "x = overall_median + overall_median + overall_SD\n",
    "y = ((overall_mean - overall_median) * overall_SD) / overall_SD\n",
    "\n",
    "assert( abs(x - 271945.50619890203) > 1 ), \"It looks like your calculations are off?\"\n",
    "assert( (y - 10038.359022556397) < 1 ), \"It looks like your calculations are off?\"\n",
    "\n",
    "## == SUCCESS MESSAGE ==\n",
    "# You will only see this message (with the emoji showing) if you passed all test cases:\n",
    "tada = \"\\N{PARTY POPPER}\"\n",
    "print(f\"{tada} All tests passed! {tada}\")"
   ]
  },
  {
   "cell_type": "markdown",
   "metadata": {},
   "source": [
    "## Puzzle 4: Exploring Your Own Interests\n",
    "\n",
    "At this point of the lab, we have investigated a lot of questions, however, these have been questions that we have told you to answer. As a data scientist, it is important to be able to use the data science skills that you learn in the classroom to answer real questions that you have.  \n",
    "\n",
    "### Puzzle 4.1: ❓ Individual Reflection ❓\n",
    "\n",
    "Think about two questions that you have that have not been answered. Record them below.  Then, answer at least one of these questions using Python and either dataset.\n",
    "\n",
    "Double click the cells below to type in your questions."
   ]
  },
  {
   "cell_type": "markdown",
   "metadata": {},
   "source": [
    "***Unanswered Question 1:*** Which department is paid the most overall by the university. Which department is paid the least overall. "
   ]
  },
  {
   "cell_type": "markdown",
   "metadata": {},
   "source": [
    "***Unanswered Question 2:***"
   ]
  },
  {
   "cell_type": "code",
   "execution_count": 74,
   "metadata": {},
   "outputs": [
    {
     "data": {
      "text/html": [
       "<div>\n",
       "<style scoped>\n",
       "    .dataframe tbody tr th:only-of-type {\n",
       "        vertical-align: middle;\n",
       "    }\n",
       "\n",
       "    .dataframe tbody tr th {\n",
       "        vertical-align: top;\n",
       "    }\n",
       "\n",
       "    .dataframe thead th {\n",
       "        text-align: right;\n",
       "    }\n",
       "</style>\n",
       "<table border=\"1\" class=\"dataframe\">\n",
       "  <thead>\n",
       "    <tr style=\"text-align: right;\">\n",
       "      <th></th>\n",
       "      <th>Primary Department</th>\n",
       "      <th>Salary</th>\n",
       "    </tr>\n",
       "  </thead>\n",
       "  <tbody>\n",
       "    <tr>\n",
       "      <th>0</th>\n",
       "      <td>Computer Science</td>\n",
       "      <td>13323600.0</td>\n",
       "    </tr>\n",
       "  </tbody>\n",
       "</table>\n",
       "</div>"
      ],
      "text/plain": [
       "  Primary Department      Salary\n",
       "0   Computer Science  13323600.0"
      ]
     },
     "execution_count": 74,
     "metadata": {},
     "output_type": "execute_result"
    }
   ],
   "source": [
    "# answer a question that you have using Python in this cell- it can be something simple!\n",
    "dfsal = dfsal.groupby(\"Primary Department\").agg(\"sum\").reset_index()\n",
    "dfsalmajmostpaid = dfsal.nlargest(1,\"Salary\")\n",
    "dfsalmajmostpaid"
   ]
  },
  {
   "cell_type": "markdown",
   "metadata": {},
   "source": [
    "### Puzzle 4.2: ❓ Individual Reflection ❓\n",
    "\n",
    "Describe which question you answered and how you answered it. "
   ]
  },
  {
   "cell_type": "markdown",
   "metadata": {},
   "source": [
    "***Double click this cell and type your answer here.*** I answered which department was paid the most overall and I did it by grouping the departments and summing all the salaries and using nlargest to find the department with the highest salary. "
   ]
  },
  {
   "cell_type": "markdown",
   "metadata": {},
   "source": [
    "### ❓ Group Discussion ❓\n",
    "\n",
    "Share your question and results with your group. "
   ]
  },
  {
   "cell_type": "markdown",
   "metadata": {},
   "source": [
    "## Puzzle 5: Final Reflection\n",
    "\n",
    "As a data scientist, it is important to think about the implications of collecting and not collecting certain data.  Data that is not collected in an analysis is called *counter data*.  \n",
    "\n",
    "Many times, data is collected to make a profit.  Data has even been referred to as “the new oil” because it is oftentimes seen as an uncapped natural resource and if you can figure out how to capture and refine it, it can lead to a massive profit.\n",
    "\n",
    "It’s also important to think about who data analysis can benefit and who it can harm.  It’s also important to think about why the data is collected and why counter data is not collected.  \n",
    "\n",
    "\n",
    "## ❓ Individual Reflection ❓\n",
    "Write a paragraph style response (at least 5 sentences) summarizing what you learned from working with the salary data. We have listed a few questions below to give you some ideas on what to write about if you need them.\n",
    "\n",
    "- What is some counter data that you’d like to collect in regard to salaries? Why do you think it’s important to collect this data?  \n",
    "- Who benefits from collecting this salary data?  Who does this data harm?\n",
    "- Why do you think this salary data is public? Can you think of any reasons that this could be problematic? \n",
    "- What did you learn from looking at the salaries stratified by gender?\n",
    "\n"
   ]
  },
  {
   "cell_type": "markdown",
   "metadata": {},
   "source": [
    "***Double click this cell and type your answer here.***We were never told what counter data is. Collecting salary data helps to see where the allocation of salaries are going and how they're being paid. I think salary data is public because the government made it be public or the university will face penalties like how politician investments are told. Salary data collection harms the employee as when they try to apply for a new position recruiter will base their new pay based on previous salary. looking at data stratified by gender allowed me to discover that woman are paid less than men. "
   ]
  },
  {
   "cell_type": "markdown",
   "metadata": {},
   "source": [
    "## POST-LAB SURVEY\n",
    "\n",
    "Remember, we are doing a pre and post lab survey this week! Please complete this survey AFTER you finish the lab to get +2 additional extra credit points! This will also help us make the labs better and should take about 10 minutes :) Click the link below to access the survey.\n",
    "\n",
    "[Click Here for the Post Lab Survey](https://docs.google.com/forms/d/1wdCVlHJ27JTQxoIXQPN1gle7WpgRcnDd9bXyvkxeKO0/edit?usp=sharing)\n",
    "\n",
    "## Submit Your Work\n",
    "\n",
    "You're almost done -- congratulations! 🎉\n",
    "\n",
    "You need to do two more things:\n",
    "\n",
    "1.  Save your work. To do this, go to File -> Save All\n",
    "\n",
    "2.  After you have saved, exit this notebook and follow the webpage instructions to commit this lab to your Git repository!"
   ]
  }
 ],
 "metadata": {
  "kernelspec": {
   "display_name": "Python 3 (ipykernel)",
   "language": "python",
   "name": "python3"
  },
  "language_info": {
   "codemirror_mode": {
    "name": "ipython",
    "version": 3
   },
   "file_extension": ".py",
   "mimetype": "text/x-python",
   "name": "python",
   "nbconvert_exporter": "python",
   "pygments_lexer": "ipython3",
   "version": "3.8.3"
  }
 },
 "nbformat": 4,
 "nbformat_minor": 4
}
